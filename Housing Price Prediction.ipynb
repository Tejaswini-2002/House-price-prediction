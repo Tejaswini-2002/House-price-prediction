{
 "cells": [
  {
   "cell_type": "markdown",
   "id": "39543e70",
   "metadata": {},
   "source": [
    "# Housing price prediction"
   ]
  },
  {
   "cell_type": "code",
   "execution_count": 70,
   "id": "23ca800e",
   "metadata": {},
   "outputs": [],
   "source": [
    "import numpy as np\n",
    "import matplotlib.style \n",
    "import matplotlib.pyplot as plt"
   ]
  },
  {
   "cell_type": "markdown",
   "id": "7f8f40a2",
   "metadata": {},
   "source": [
    "A simple data set with only two data points - a house with 1000 square feet(sqft) sold for ₹20 lakhs and a house with 3000 sqft is sold for ₹30 lakhs. These two points will constitute our data or training set. The units of size are 1000 sqft and the units of price are 1 lakh rupees."
   ]
  },
  {
   "cell_type": "code",
   "execution_count": 71,
   "id": "ba8107e6",
   "metadata": {},
   "outputs": [
    {
     "name": "stdout",
     "output_type": "stream",
     "text": [
      "x_train = [1. 3.]\n",
      "y_train = [20. 30.]\n"
     ]
    }
   ],
   "source": [
    "x_train = np.array([1.0, 3.0]) # x_train is the input variable\n",
    "y_train = np.array([20.0, 30.0]) # y_train is the target \n",
    "print(f\"x_train = {x_train}\")\n",
    "print(f\"y_train = {y_train}\")"
   ]
  },
  {
   "cell_type": "markdown",
   "id": "baeb9527",
   "metadata": {},
   "source": [
    "### Note\n",
    "Here f is written before the quotes, as we are using the python expression between { and }"
   ]
  },
  {
   "cell_type": "markdown",
   "id": "55a80398",
   "metadata": {},
   "source": [
    "\"m\" is used to denote the number of training examples.\n",
    "Numpy arrays have a .shape parameter. x_train.shape returns a python tuple with an entry for each dimension.\n",
    "x_train.shape[0] is the length of the array and number of examples as shown below."
   ]
  },
  {
   "cell_type": "code",
   "execution_count": 72,
   "id": "08f131b2",
   "metadata": {},
   "outputs": [
    {
     "name": "stdout",
     "output_type": "stream",
     "text": [
      "x_train.shape: (2,)\n",
      "Number of training examples is: 2\n"
     ]
    }
   ],
   "source": [
    "print(f\"x_train.shape: {x_train.shape}\")\n",
    "m = x_train.shape[0]\n",
    "print(f\"Number of training examples is: {m}\")"
   ]
  },
  {
   "cell_type": "markdown",
   "id": "04e6b4cd",
   "metadata": {},
   "source": [
    "We can also use len() function to find the number of training samples.\n",
    "\n",
    "\n"
   ]
  },
  {
   "cell_type": "markdown",
   "id": "4c691c15",
   "metadata": {},
   "source": [
    "(x(𝑖), y(𝑖)) is used to denote the 𝑖𝑡ℎ training example. Since Python is zero indexed, (x(0), y(0)) is (1.0, 300.0) and (x(1), y (1)) is (2.0, 500.0).\n",
    "\n",
    "To access a value in a Numpy array, one indexes the array with the desired offset. For example the syntax to access location zero of x_train is x_train[0]"
   ]
  },
  {
   "cell_type": "code",
   "execution_count": 73,
   "id": "a11537bd",
   "metadata": {},
   "outputs": [
    {
     "name": "stdout",
     "output_type": "stream",
     "text": [
      "(x^(0), y^(0)) = (1.0, 20.0)\n"
     ]
    }
   ],
   "source": [
    "i = 0 \n",
    "\n",
    "x_i = x_train[i]\n",
    "y_i = y_train[i]\n",
    "print(f\"(x^({i}), y^({i})) = ({x_i}, {y_i})\")"
   ]
  },
  {
   "cell_type": "code",
   "execution_count": 74,
   "id": "8387637f",
   "metadata": {},
   "outputs": [
    {
     "name": "stdout",
     "output_type": "stream",
     "text": [
      "(x^(1), y^(1)) = (3.0, 30.0)\n"
     ]
    }
   ],
   "source": [
    "i = 1\n",
    "\n",
    "x_i = x_train[i]\n",
    "y_i = y_train[i]\n",
    "print(f\"(x^({i}), y^({i})) = ({x_i}, {y_i})\")"
   ]
  },
  {
   "cell_type": "markdown",
   "id": "fda5beff",
   "metadata": {},
   "source": [
    "scatter() function in matplotlib is used to plot those two points."
   ]
  },
  {
   "cell_type": "code",
   "execution_count": 75,
   "id": "d803249f",
   "metadata": {},
   "outputs": [
    {
     "data": {
      "image/png": "[encoded data removed]",
      "text/plain": [
       "<Figure size 432x288 with 1 Axes>"
      ]
     },
     "metadata": {
      "needs_background": "light"
     },
     "output_type": "display_data"
    }
   ],
   "source": [
    "# Plot the data points\n",
    "plt.scatter(x_train, y_train, marker='x', c='r') #default colour is blue\n",
    "plt.title(\"Housing Prices\") #title\n",
    "plt.ylabel('Price (in 1000s of dollars)') # y-axis label\n",
    "plt.xlabel('Size (1000 sqft)') # x-axis label\n",
    "plt.show()"
   ]
  },
  {
   "cell_type": "markdown",
   "id": "961ab68c",
   "metadata": {},
   "source": [
    "Let's initialise the values of w and b"
   ]
  },
  {
   "cell_type": "code",
   "execution_count": 76,
   "id": "220cecdf",
   "metadata": {},
   "outputs": [
    {
     "name": "stdout",
     "output_type": "stream",
     "text": [
      "w: 10\n",
      "b: 10\n"
     ]
    }
   ],
   "source": [
    "w = 10\n",
    "b = 10\n",
    "print(f\"w: {w}\")\n",
    "print(f\"b: {b}\")"
   ]
  },
  {
   "cell_type": "markdown",
   "id": "4f6cfde4",
   "metadata": {},
   "source": [
    "Let's compute the value of  𝑓𝑤,𝑏(𝑥(𝑖))  for your two data points\n",
    "for  𝑥(0) , f_wb = w * x[0] + b  and\n",
    "for  𝑥(1) , f_wb = w * x[1] + b\n"
   ]
  },
  {
   "cell_type": "markdown",
   "id": "0d9fa586",
   "metadata": {},
   "source": [
    "Let's define the function compute_model_output to compute the value of 𝑓𝑤,𝑏(𝑥(𝑖))."
   ]
  },
  {
   "cell_type": "code",
   "execution_count": 77,
   "id": "b1425a42",
   "metadata": {},
   "outputs": [],
   "source": [
    "def compute_model_output(x, w, b):\n",
    "    \"\"\"\n",
    "      x (ndarray (m,)): Data\n",
    "      w,b             : model parameters  \n",
    "    Returns\n",
    "      y (ndarray (m,)): target values\n",
    "    \"\"\"\n",
    "    m = x.shape[0]\n",
    "    f_wb = np.zeros(m)\n",
    "    for i in range(m):\n",
    "        f_wb[i] = w * x[i] + b\n",
    "        \n",
    "    return f_wb"
   ]
  },
  {
   "cell_type": "markdown",
   "id": "32db6e8b",
   "metadata": {},
   "source": [
    "Let's call the function compute_model_output and plot the output."
   ]
  },
  {
   "cell_type": "code",
   "execution_count": 78,
   "id": "a05e8964",
   "metadata": {},
   "outputs": [
    {
     "name": "stdout",
     "output_type": "stream",
     "text": [
      "[20. 40.]\n"
     ]
    },
    {
     "data": {
      "image/png": "[encoded data removed]",
      "text/plain": [
       "<Figure size 432x288 with 1 Axes>"
      ]
     },
     "metadata": {
      "needs_background": "light"
     },
     "output_type": "display_data"
    }
   ],
   "source": [
    "tmp_f_wb = compute_model_output(x_train, w, b,)\n",
    "print(tmp_f_wb)\n",
    "# Plot our model prediction\n",
    "plt.plot(x_train, tmp_f_wb, c='b',label='Our Prediction')\n",
    "\n",
    "# Plot the data points\n",
    "plt.scatter(x_train, y_train, marker='x', c='r',label='Actual Values')\n",
    "\n",
    "# Set the title\n",
    "plt.title(\"Housing Prices\")\n",
    "# Set the y-axis label\n",
    "plt.ylabel('Price (in 1000s of dollars)')\n",
    "# Set the x-axis label\n",
    "plt.xlabel('Size (1000 sqft)')\n",
    "plt.legend()\n",
    "plt.show()"
   ]
  },
  {
   "cell_type": "markdown",
   "id": "ea94709a",
   "metadata": {},
   "source": [
    "Since it is a Linear regression with one variable, it is easy to find the best fit straight line. Therefore w comes out to be 200 and b comes out to be 100."
   ]
  },
  {
   "cell_type": "markdown",
   "id": "3b5908ae",
   "metadata": {},
   "source": [
    "Now we have a model, we can use it to make our original prediction."
   ]
  },
  {
   "cell_type": "code",
   "execution_count": 79,
   "id": "617ec412",
   "metadata": {},
   "outputs": [
    {
     "name": "stdout",
     "output_type": "stream",
     "text": [
      "₹28lakhs\n"
     ]
    }
   ],
   "source": [
    "w = 5                         \n",
    "b = 15   \n",
    "x_i = 2.5\n",
    "cost_1200sqft = w * x_i + b    \n",
    "\n",
    "print(f\"₹{cost_1200sqft:.0f}lakhs\")"
   ]
  },
  {
   "cell_type": "code",
   "execution_count": null,
   "id": "21c8ef6a",
   "metadata": {},
   "outputs": [],
   "source": []
  }
 ],
 "metadata": {
  "kernelspec": {
   "display_name": "Python 3",
   "language": "python",
   "name": "python3"
  },
  "language_info": {
   "codemirror_mode": {
    "name": "ipython",
    "version": 3
   },
   "file_extension": ".py",
   "mimetype": "text/x-python",
   "name": "python",
   "nbconvert_exporter": "python",
   "pygments_lexer": "ipython3",
   "version": "3.8.8"
  }
 },
 "nbformat": 4,
 "nbformat_minor": 5
}
